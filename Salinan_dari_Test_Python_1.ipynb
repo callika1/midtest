{
  "nbformat": 4,
  "nbformat_minor": 5,
  "metadata": {
    "kernelspec": {
      "display_name": "Python 3",
      "language": "python",
      "name": "python3"
    },
    "language_info": {
      "codemirror_mode": {
        "name": "ipython",
        "version": 3
      },
      "file_extension": ".py",
      "mimetype": "text/x-python",
      "name": "python",
      "nbconvert_exporter": "python",
      "pygments_lexer": "ipython3",
      "version": "3.7.0"
    },
    "colab": {
      "provenance": []
    }
  },
  "cells": [
    {
      "cell_type": "markdown",
      "metadata": {
        "id": "87919d68"
      },
      "source": [
        "### Python 1 : Addition To String"
      ],
      "id": "87919d68"
    },
    {
      "cell_type": "markdown",
      "metadata": {
        "id": "c061c30a"
      },
      "source": [
        "### Task"
      ],
      "id": "c061c30a"
    },
    {
      "cell_type": "markdown",
      "metadata": {
        "id": "66fcf833"
      },
      "source": [
        "Your function name should be `add_str`.\n",
        "\n",
        "Given a string filled with integers separated by comma. Create a new number, whose digits are the integers inside the string. Then, add 1 to the new number. Then, separate the digits again to a string which consits of **single digit of\n",
        "integers**, separated by comma. This new string will be your output string. The output string **should not have zero as its first character**.  See the examples for clearer understanding."
      ],
      "id": "66fcf833"
    },
    {
      "cell_type": "markdown",
      "metadata": {
        "id": "aee24374"
      },
      "source": [
        "### Example 1:\n",
        "\n",
        "- Input = `'1,3,5'`\n",
        "- Output = `'1,3,6'`\n",
        "\n",
        "Since the input is `'1,3,5'`, then the new number created is 135. Add 135 with 1 so it becomes 136. Then, separate back 136 into each individual digits separated by comma. This becomes `'1,3,6'`. So, the expected output of your solution is `'1,3,6'`"
      ],
      "id": "aee24374"
    },
    {
      "cell_type": "markdown",
      "metadata": {
        "id": "e85af386"
      },
      "source": [
        "### Example 2:\n",
        "\n",
        "- Input = `'1,3,39'`\n",
        "- Output = `'1,3,4,0'`\n",
        "\n",
        "Since the input is `'1,3,39'`, then the new number created is 1339. Add 1339 with 1 so it becomes 1340. Then, separate back 1340 into each individual digits separated by comma. This becomes `'1,3,4,0'`. So, the expected output of your solution is `'1,3,4,0'`"
      ],
      "id": "e85af386"
    },
    {
      "cell_type": "code",
      "source": [
        "def add_str(input_code, input_numbers):\n",
        "    combined_number = ''.join(input_numbers)\n",
        "    result_number = int(combined_number) + 1\n",
        "    result_string = ','.join(str(result_number))\n",
        "\n",
        "    return result_string\n",
        "\n",
        "#input\n",
        "input_code = '1,3,39'\n",
        "input_numbers = '1339'\n",
        "\n",
        "#output\n",
        "decoded_result = add_str(input_code, input_numbers)\n",
        "print(decoded_result)\n"
      ],
      "metadata": {
        "colab": {
          "base_uri": "https://localhost:8080/"
        },
        "id": "uK3rN7PrfAV2",
        "outputId": "ff82d3d0-29e7-4513-a3b5-6a2531850a4e"
      },
      "id": "uK3rN7PrfAV2",
      "execution_count": 33,
      "outputs": [
        {
          "output_type": "stream",
          "name": "stdout",
          "text": [
            "1,3,4,0\n"
          ]
        }
      ]
    },
    {
      "cell_type": "markdown",
      "metadata": {
        "id": "bbeb3f41"
      },
      "source": [
        "### Example 1:\n",
        "\n",
        "- Input = `'0,1,3,39'`\n",
        "- Output = `'1,3,4,0'`\n",
        "\n",
        "Since the input is `'0,1,3,39'`, then the new number created is 1339. Add 1339 with 1 so it becomes 1340. Then, separate back 1340 into each individual digits separated by comma. This becomes `'1,3,4,0'`. So, the expected output of your solution is `'1,3,4,0'`. Remember, do not put a 'zero' in the beginning of your output."
      ],
      "id": "bbeb3f41"
    },
    {
      "cell_type": "code",
      "source": [
        "def add_str(input_code, input_numbers):\n",
        "    combined_number = ''.join(input_numbers)\n",
        "    result_number = int(combined_number) + 1\n",
        "    result_string = ','.join(str(result_number))\n",
        "\n",
        "    return result_string\n",
        "\n",
        "#input\n",
        "input_code = '0,1,3,39'\n",
        "input_numbers = '01339'\n",
        "\n",
        "#output\n",
        "decoded_result = add_str(input_code, input_numbers)\n",
        "print(decoded_result)"
      ],
      "metadata": {
        "colab": {
          "base_uri": "https://localhost:8080/"
        },
        "id": "nq2_b7QHhVGj",
        "outputId": "f90f85ff-ad57-4e12-d34e-deb2b27ffa87"
      },
      "id": "nq2_b7QHhVGj",
      "execution_count": 34,
      "outputs": [
        {
          "output_type": "stream",
          "name": "stdout",
          "text": [
            "1,3,4,0\n"
          ]
        }
      ]
    },
    {
      "cell_type": "markdown",
      "metadata": {
        "id": "e7807496"
      },
      "source": [
        "### Input Format\n",
        "\n",
        "The input is in the shape of a string."
      ],
      "id": "e7807496"
    },
    {
      "cell_type": "markdown",
      "metadata": {
        "id": "e9f0d6c5"
      },
      "source": [
        "### Output Format\n",
        "\n",
        "The output is in the shape of a string."
      ],
      "id": "e9f0d6c5"
    },
    {
      "cell_type": "markdown",
      "metadata": {
        "id": "f9173e59"
      },
      "source": [
        "### Sample Input"
      ],
      "id": "f9173e59"
    },
    {
      "cell_type": "markdown",
      "metadata": {
        "id": "c0526b8c"
      },
      "source": [
        "`'1,5,1,9'`"
      ],
      "id": "c0526b8c"
    },
    {
      "cell_type": "markdown",
      "metadata": {
        "id": "71fad9f8"
      },
      "source": [
        "### Sample Output\n",
        "`'1,5,2,0'`"
      ],
      "id": "71fad9f8"
    },
    {
      "cell_type": "markdown",
      "metadata": {
        "id": "8306d027"
      },
      "source": [
        "### Space for Work"
      ],
      "id": "8306d027"
    },
    {
      "cell_type": "code",
      "source": [
        "def add_str(input_code, input_numbers):\n",
        "    combined_number = ''.join(input_numbers)\n",
        "    result_number = int(combined_number) + 1\n",
        "    result_string = ','.join(str(result_number))\n",
        "\n",
        "    return result_string\n",
        "\n",
        "#input\n",
        "input_code = '1,5,1,9'\n",
        "input_numbers = '1519'\n",
        "\n",
        "#output\n",
        "decoded_result = add_str(input_code, input_numbers)\n",
        "print(decoded_result)"
      ],
      "metadata": {
        "colab": {
          "base_uri": "https://localhost:8080/"
        },
        "id": "sdgXpkCSYUVr",
        "outputId": "58ce11e0-b771-47ed-e6fe-8f2bbd0fc1da"
      },
      "id": "sdgXpkCSYUVr",
      "execution_count": 36,
      "outputs": [
        {
          "output_type": "stream",
          "name": "stdout",
          "text": [
            "1,5,2,0\n"
          ]
        }
      ]
    },
    {
      "cell_type": "code",
      "source": [
        "def add_str(input_code, input_numbers):\n",
        "    combined_number = ''.join(input_numbers)\n",
        "    result_number = int(combined_number) + 1\n",
        "    result_string = ','.join(str(result_number))\n",
        "\n",
        "    return result_string\n",
        "\n",
        "#input\n",
        "input_code = '3,1,0,5,2,0'\n",
        "input_numbers = '310520'\n",
        "\n",
        "#output\n",
        "decoded_result = add_str(input_code, input_numbers)\n",
        "print(decoded_result)"
      ],
      "metadata": {
        "colab": {
          "base_uri": "https://localhost:8080/"
        },
        "id": "yQYBOnWBkPk_",
        "outputId": "9927279a-443f-422b-b9bb-2a67e811deff"
      },
      "id": "yQYBOnWBkPk_",
      "execution_count": 37,
      "outputs": [
        {
          "output_type": "stream",
          "name": "stdout",
          "text": [
            "3,1,0,5,2,1\n"
          ]
        }
      ]
    }
  ]
}